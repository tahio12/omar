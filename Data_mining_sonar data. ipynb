{
  "nbformat": 4,
  "nbformat_minor": 0,
  "metadata": {
    "colab": {
      "provenance": [],
      "include_colab_link": true
    },
    "kernelspec": {
      "name": "python3",
      "display_name": "Python 3"
    },
    "language_info": {
      "name": "python"
    },
    "gpuClass": "standard"
  },
  "cells": [
    {
      "cell_type": "markdown",
      "metadata": {
        "id": "view-in-github",
        "colab_type": "text"
      },
      "source": [
        "<a href=\"https://colab.research.google.com/github/tahio12/omar/blob/master/Data_mining_sonar%20data.%20ipynb\" target=\"_parent\"><img src=\"https://colab.research.google.com/assets/colab-badge.svg\" alt=\"Open In Colab\"/></a>"
      ]
    },
    {
      "cell_type": "markdown",
      "source": [
        " Leader - Omar Tahir - otahi001@gold.ac.uk, 33684350\n",
        "\n",
        " Matei-Nicolae Turcu - mturc001@campus.goldsmiths.ac.uk, 3365097301\n"
      ],
      "metadata": {
        "id": "A8k-yXBxq5XX"
      }
    },
    {
      "cell_type": "code",
      "source": [],
      "metadata": {
        "id": "LcdfdtgPD7SX"
      },
      "execution_count": null,
      "outputs": []
    },
    {
      "cell_type": "markdown",
      "source": [
        "Here we import the libraries numpy and panda"
      ],
      "metadata": {
        "id": "TbfNx_gSs-6i"
      }
    },
    {
      "cell_type": "code",
      "source": [
        "import numpy as np\n",
        "import pandas as pd"
      ],
      "metadata": {
        "id": "E-dB2LIRD1Qz"
      },
      "execution_count": null,
      "outputs": []
    },
    {
      "cell_type": "markdown",
      "source": [
        "This code loads the training data and test data from the CSV files by using the panda library"
      ],
      "metadata": {
        "id": "Tzb-NDX3tChn"
      }
    },
    {
      "cell_type": "code",
      "source": [
        "# Load training and test data\n",
        "train_data = pd.read_csv('sonar_train.csv')\n",
        "test_data = pd.read_csv('sonar_test.csv')"
      ],
      "metadata": {
        "id": "rxDCMTdkEd3l"
      },
      "execution_count": null,
      "outputs": []
    },
    {
      "cell_type": "markdown",
      "source": [
        "The predictors are separated from the outcome variables in the trainig and test data. Train_x and test_x are storing the predictors, and train_y and test_y are storing the outcome variables."
      ],
      "metadata": {
        "id": "bx0gKGu4tPq5"
      }
    },
    {
      "cell_type": "code",
      "source": [
        "# Separate predictors (features) and outcome variable (label)\n",
        "train_X = train_data.iloc[:, :-1].values\n",
        "train_y = train_data.iloc[:, -1].values\n",
        "test_X = test_data.iloc[:, :-1].values\n",
        "test_y = test_data.iloc[:, -1].values"
      ],
      "metadata": {
        "id": "Q8pV2uTdEfUi"
      },
      "execution_count": null,
      "outputs": []
    },
    {
      "cell_type": "markdown",
      "source": [
        "This piece of code calculates the Minkowski distance between two points x and y using a special parameter p."
      ],
      "metadata": {
        "id": "lQquJ263t3mU"
      }
    },
    {
      "cell_type": "code",
      "source": [
        "# Define Minkowski distance function\n",
        "def minkowski_dist(x, y, p):\n",
        "    return np.power(np.power(np.abs(x - y), p).sum(), 1/p)"
      ],
      "metadata": {
        "id": "s6vbGs3oEfRE"
      },
      "execution_count": null,
      "outputs": []
    },
    {
      "cell_type": "markdown",
      "source": [
        "The nn_classifier function takes in the training and test data, and a parameter p which determines the type of Minkowski distance to use. In order to forecast the outcome variable based on the predictors, this function uses the nearest neighbour alogirthm."
      ],
      "metadata": {
        "id": "kVY9zRXDuIPv"
      }
    },
    {
      "cell_type": "code",
      "source": [
        "# Define nearest neighbour classifier function\n",
        "def nn_classifier(train_X, train_y, test_X, p):\n",
        "    preds = []\n",
        "    for i in range(len(test_X)):\n",
        "        distances = []\n",
        "        for j in range(len(train_X)):\n",
        "            dist = minkowski_dist(test_X[i], train_X[j], p)\n",
        "            distances.append((dist, train_y[j]))\n",
        "        distances.sort(key=lambda x: x[0])\n",
        "        preds.append(distances[0][1])\n",
        "    return np.array(preds)"
      ],
      "metadata": {
        "id": "QgkBql3aEe_i"
      },
      "execution_count": null,
      "outputs": []
    },
    {
      "cell_type": "markdown",
      "source": [
        "The evaluate function takes in the true values of the outcome variable y_true and the predicted values of the outcome variable y_pred. This function calculates the evaluation metrics accuracy, precision, F1 score and recall."
      ],
      "metadata": {
        "id": "4ngMgub6u-aR"
      }
    },
    {
      "cell_type": "code",
      "source": [
        "# Define function to calculate evaluation metrics\n",
        "def evaluate(y_true, y_pred):\n",
        "    tp = np.sum((y_true == 'M') & (y_pred == 'M'))\n",
        "    tn = np.sum((y_true == 'R') & (y_pred == 'R'))\n",
        "    fp = np.sum((y_true == 'R') & (y_pred == 'M'))\n",
        "    fn = np.sum((y_true == 'M') & (y_pred == 'R'))\n",
        "    accuracy = (tp + tn) / len(y_true)\n",
        "    recall = tp / (tp + fn)\n",
        "    precision = tp / (tp + fp)\n",
        "    f1 = 2 * precision * recall / (precision + recall)\n",
        "    return accuracy, recall, precision, f1"
      ],
      "metadata": {
        "id": "IvHG4TkuEe5g"
      },
      "execution_count": null,
      "outputs": []
    },
    {
      "cell_type": "markdown",
      "source": [
        "By using the nn_classifier function the code predicts the outcome variable for both Minkowsi distance for p=1 and p = 2. . The evaluation metrics are calculated using the evaluate function, and the results are printed to the console."
      ],
      "metadata": {
        "id": "RxBnVAuZvYL8"
      }
    },
    {
      "cell_type": "code",
      "source": [
        "# Use nearest neighbour classifier with Minkowski distance for p = 1 (Manhattan) and p = 2 (Euclidean)\n",
        "for p in [1, 2]:\n",
        "    y_pred = nn_classifier(train_X, train_y, test_X, p)\n",
        "    acc, rec, prec, f1 = evaluate(test_y, y_pred)\n",
        "    print(f'Minkowski distance with p = {p} (')\n",
        "    print(f'Accuracy: {acc:.2f}, Recall: {rec:.2f}, Precision: {prec:.2f}, F1 score: {f1:.2f}')"
      ],
      "metadata": {
        "colab": {
          "base_uri": "https://localhost:8080/"
        },
        "id": "ASIIZQ7VEo4_",
        "outputId": "129c8c60-95bc-4842-c02d-05d09c12ab39"
      },
      "execution_count": null,
      "outputs": [
        {
          "output_type": "stream",
          "name": "stdout",
          "text": [
            "Minkowski distance with p = 1 (\n",
            "Accuracy: 0.88, Recall: 0.95, Precision: 0.85, F1 score: 0.90\n",
            "Minkowski distance with p = 2 (\n",
            "Accuracy: 0.90, Recall: 0.97, Precision: 0.86, F1 score: 0.91\n"
          ]
        }
      ]
    },
    {
      "cell_type": "markdown",
      "source": [
        "This code calculates evaluation metrics for different values of q using the nn_classifier function and evaluate. It loops through values of q from 1 to 20, and for each value of q it calculates the prediction for the test and evaluation metrics. The evaluation matrics are accuracy, recall, precision and  F1. "
      ],
      "metadata": {
        "id": "_qdzj3Wux4qc"
      }
    },
    {
      "cell_type": "code",
      "source": [
        "# Calculate evaluation metrics for different values of q\n",
        "q_values = range(1, 21)\n",
        "results = []\n",
        "for q in q_values:\n",
        "    y_pred = nn_classifier(train_X, train_y, test_X, q)\n",
        "    acc, rec, prec, f1 = evaluate(test_y, y_pred)\n",
        "    results.append((q, acc, rec, prec, f1))\n",
        "\n"
      ],
      "metadata": {
        "id": "T0XTm2dGD9wj"
      },
      "execution_count": null,
      "outputs": []
    },
    {
      "cell_type": "markdown",
      "source": [
        "This code plots 4 graphs showing how the accuracy, recall, precision and F1 are changing with each value of q. For each metric, the line plot shows how the metric changes as the value of q increases. The results list is used to obtain the evaluation metric values for each value of q.\n",
        "After plotting the graphs, the code determines the best value of q based on accuracy. \n",
        "By using the max function, it findss the tuple in results with the highest accuracy value, and it selects the first element which corresponds with the q with the highest accuracy. "
      ],
      "metadata": {
        "id": "iM7B2yuHzB6c"
      }
    },
    {
      "cell_type": "code",
      "source": [
        "# Plot evaluation metrics for different values of q\n",
        "metrics = ['Accuracy', 'Recall', 'Precision', 'F1 score']\n",
        "for i in range(4):\n",
        "    plt.subplot(2, 2, i+1)\n",
        "    plt.plot(q_values, [r[i+1] for r in results])\n",
        "    plt.title(metrics[i])\n",
        "plt.tight_layout()\n",
        "plt.show()\n",
        "\n",
        "# Print best value of q based on accuracy\n",
        "best_q = max(results, key=lambda x: x[1])[0]\n",
        "print(f'Best value of q based on accuracy: {best_q}')"
      ],
      "metadata": {
        "colab": {
          "base_uri": "https://localhost:8080/",
          "height": 314
        },
        "id": "u9BjRFtwEv0M",
        "outputId": "16f5d502-7556-41aa-9f78-f3663cac0906"
      },
      "execution_count": null,
      "outputs": [
        {
          "output_type": "display_data",
          "data": {
            "text/plain": [
              "<Figure size 432x288 with 4 Axes>"
            ],
            "image/png": "[encoded data removed]"
          },
          "metadata": {
            "needs_background": "light"
          }
        },
        {
          "output_type": "stream",
          "name": "stdout",
          "text": [
            "Best value of q based on accuracy: 2\n"
          ]
        }
      ]
    }
  ]
}